{
 "cells": [
  {
   "cell_type": "code",
   "execution_count": 3,
   "metadata": {},
   "outputs": [
    {
     "data": {
      "text/plain": [
       "'/Users/Henry/Desktop/github/personal_projects/Golf Shot Tracer'"
      ]
     },
     "execution_count": 3,
     "metadata": {},
     "output_type": "execute_result"
    }
   ],
   "source": [
    "from pytube import YouTube\n",
    "from moviepy.video.io.VideoFileClip import VideoFileClip\n",
    "import os\n",
    "\n",
    "HOME = os.getcwd()\n",
    "HOME"
   ]
  },
  {
   "cell_type": "code",
   "execution_count": 4,
   "metadata": {},
   "outputs": [],
   "source": [
    "def download_youtube_video(url, output_path):\n",
    "    try:\n",
    "        # Initialize a YouTube object with the provided URL\n",
    "        yt = YouTube(url)\n",
    "        video = yt.streams.filter(file_extension='mp4').first()\n",
    "        video.download(output_path)\n",
    "    \n",
    "        return os.path.join(output_path, video.default_filename)\n",
    "    \n",
    "    except Exception as e:\n",
    "        print(f\"Error downloading video: {e}\")\n",
    "        return None\n",
    "\n",
    "def trim_video(input_path, output_path, start_time, end_time):\n",
    "    try:\n",
    "        video_clip = VideoFileClip(input_path)\n",
    "        trimmed_clip = video_clip.subclip(start_time, end_time)\n",
    "        trimmed_clip.write_videofile(output_path)\n",
    "        \n",
    "        video_clip.close()\n",
    "        trimmed_clip.close()\n",
    "        \n",
    "        return output_path\n",
    "    except Exception as e:\n",
    "        print(f\"Error trimming video: {e}\")\n",
    "        return None"
   ]
  },
  {
   "cell_type": "code",
   "execution_count": 5,
   "metadata": {},
   "outputs": [
    {
     "name": "stdout",
     "output_type": "stream",
     "text": [
      "Video downloaded successfully at: '/Users/Henry/Desktop/github/personal_projects/Golf Shot Tracer/Videos/raw/The Longest Putts From the Third Round  The Masters.mp4'\n",
      "Moviepy - Building video /Users/Henry/Desktop/github/personal_projects/Golf Shot Tracer/Videos/processed/pm1.mp4.\n",
      "MoviePy - Writing audio in pm1TEMP_MPY_wvf_snd.mp3\n"
     ]
    },
    {
     "name": "stderr",
     "output_type": "stream",
     "text": [
      "                                                                  \r"
     ]
    },
    {
     "name": "stdout",
     "output_type": "stream",
     "text": [
      "MoviePy - Done.\n",
      "Moviepy - Writing video /Users/Henry/Desktop/github/personal_projects/Golf Shot Tracer/Videos/processed/pm1.mp4\n",
      "\n"
     ]
    },
    {
     "name": "stderr",
     "output_type": "stream",
     "text": [
      "                                                               \r"
     ]
    },
    {
     "name": "stdout",
     "output_type": "stream",
     "text": [
      "Moviepy - Done !\n",
      "Moviepy - video ready /Users/Henry/Desktop/github/personal_projects/Golf Shot Tracer/Videos/processed/pm1.mp4\n",
      "Video trimmed successfully and saved at: '/Users/Henry/Desktop/github/personal_projects/Golf Shot Tracer/Videos/processed/pm1.mp4'\n"
     ]
    }
   ],
   "source": [
    "youtube_url = \"https://www.youtube.com/watch?v=l4UWejsObCY\"\n",
    "input_directory = os.path.join(HOME, \"Videos\", \"raw\")\n",
    "output_directory = os.path.join(HOME, \"Videos\", \"processed\")\n",
    "processed_video_name = \"pm1.mp4\"\n",
    "\n",
    "# Download the video\n",
    "downloaded_video_path = download_youtube_video(youtube_url, input_directory)\n",
    "\n",
    "START_TIME = (60 * 0) + 33  # in seconds\n",
    "END_TIME = (60 * 0) + 46    # in seconds\n",
    "\n",
    "if downloaded_video_path:\n",
    "    print(f\"Video downloaded successfully at: '{downloaded_video_path}'\")\n",
    "    \n",
    "    # Trim the video\n",
    "    trimmed_video_path = trim_video(downloaded_video_path, os.path.join(output_directory, processed_video_name), START_TIME, END_TIME)\n",
    "    \n",
    "    if trimmed_video_path:\n",
    "        print(f\"Video trimmed successfully and saved at: '{trimmed_video_path}'\")\n",
    "        # Now you can use OpenCV models with the trimmed video\n",
    "    else:\n",
    "        print(\"Failed to trim the video.\")\n",
    "else:\n",
    "    print(\"Failed to download the video.\")"
   ]
  },
  {
   "cell_type": "code",
   "execution_count": 22,
   "metadata": {},
   "outputs": [],
   "source": [
    "# # Create a shorter snippet of from\n",
    "# input_video = os.path.join(HOME, \"data\", \"processed\", \"full_lap_follow_cam.mp4\")\n",
    "# output_directory = os.path.join(HOME, \"data\", \"processed\")\n",
    "# output_name = \"turn_1_mini.mp4\"\n",
    "\n",
    "# # Set timestamps to start and end the video clip\n",
    "# start_time = 51  # in seconds\n",
    "# end_time = 53    # in seconds\n",
    "\n",
    "# # Trim the video\n",
    "# trimmed_video_path = trim_video(input_video, os.path.join(output_directory, output_name), start_time, end_time)\n",
    "\n",
    "# if trimmed_video_path:\n",
    "#     print(f\"Video trimmed successfully and saved at: {trimmed_video_path}\")\n",
    "#     # Now you can use OpenCV models with the trimmed video     \n",
    "# else:\n",
    "#     print(\"Failed to trim the video.\")"
   ]
  },
  {
   "cell_type": "code",
   "execution_count": null,
   "metadata": {},
   "outputs": [],
   "source": []
  }
 ],
 "metadata": {
  "kernelspec": {
   "display_name": "f1_tracking",
   "language": "python",
   "name": "python3"
  },
  "language_info": {
   "codemirror_mode": {
    "name": "ipython",
    "version": 3
   },
   "file_extension": ".py",
   "mimetype": "text/x-python",
   "name": "python",
   "nbconvert_exporter": "python",
   "pygments_lexer": "ipython3",
   "version": "3.9.18"
  }
 },
 "nbformat": 4,
 "nbformat_minor": 2
}
